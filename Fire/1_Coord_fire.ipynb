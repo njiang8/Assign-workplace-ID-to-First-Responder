{
 "cells": [
  {
   "cell_type": "code",
   "execution_count": 2,
   "metadata": {},
   "outputs": [],
   "source": [
    "import pandas as pd"
   ]
  },
  {
   "cell_type": "code",
   "execution_count": 5,
   "metadata": {},
   "outputs": [],
   "source": [
    "df = pd.read_csv('/Users/jiangna/Desktop/fire.csv')"
   ]
  },
  {
   "cell_type": "code",
   "execution_count": 6,
   "metadata": {},
   "outputs": [
    {
     "data": {
      "text/html": [
       "<div>\n",
       "<style scoped>\n",
       "    .dataframe tbody tr th:only-of-type {\n",
       "        vertical-align: middle;\n",
       "    }\n",
       "\n",
       "    .dataframe tbody tr th {\n",
       "        vertical-align: top;\n",
       "    }\n",
       "\n",
       "    .dataframe thead th {\n",
       "        text-align: right;\n",
       "    }\n",
       "</style>\n",
       "<table border=\"1\" class=\"dataframe\">\n",
       "  <thead>\n",
       "    <tr style=\"text-align: right;\">\n",
       "      <th></th>\n",
       "      <th>FID</th>\n",
       "      <th>Latitude</th>\n",
       "      <th>Longitude</th>\n",
       "    </tr>\n",
       "  </thead>\n",
       "  <tbody>\n",
       "    <tr>\n",
       "      <th>0</th>\n",
       "      <td>0</td>\n",
       "      <td>40.703466</td>\n",
       "      <td>-74.007538</td>\n",
       "    </tr>\n",
       "    <tr>\n",
       "      <th>1</th>\n",
       "      <td>1</td>\n",
       "      <td>40.710072</td>\n",
       "      <td>-74.012523</td>\n",
       "    </tr>\n",
       "    <tr>\n",
       "      <th>2</th>\n",
       "      <td>2</td>\n",
       "      <td>40.710048</td>\n",
       "      <td>-74.005245</td>\n",
       "    </tr>\n",
       "    <tr>\n",
       "      <th>3</th>\n",
       "      <td>3</td>\n",
       "      <td>40.715463</td>\n",
       "      <td>-74.005938</td>\n",
       "    </tr>\n",
       "    <tr>\n",
       "      <th>4</th>\n",
       "      <td>4</td>\n",
       "      <td>40.719759</td>\n",
       "      <td>-74.006678</td>\n",
       "    </tr>\n",
       "  </tbody>\n",
       "</table>\n",
       "</div>"
      ],
      "text/plain": [
       "   FID   Latitude  Longitude\n",
       "0    0  40.703466 -74.007538\n",
       "1    1  40.710072 -74.012523\n",
       "2    2  40.710048 -74.005245\n",
       "3    3  40.715463 -74.005938\n",
       "4    4  40.719759 -74.006678"
      ]
     },
     "execution_count": 6,
     "metadata": {},
     "output_type": "execute_result"
    }
   ],
   "source": [
    "df.head()"
   ]
  },
  {
   "cell_type": "code",
   "execution_count": 7,
   "metadata": {},
   "outputs": [],
   "source": [
    "df['coord'] = '0'"
   ]
  },
  {
   "cell_type": "code",
   "execution_count": 8,
   "metadata": {},
   "outputs": [
    {
     "data": {
      "text/html": [
       "<div>\n",
       "<style scoped>\n",
       "    .dataframe tbody tr th:only-of-type {\n",
       "        vertical-align: middle;\n",
       "    }\n",
       "\n",
       "    .dataframe tbody tr th {\n",
       "        vertical-align: top;\n",
       "    }\n",
       "\n",
       "    .dataframe thead th {\n",
       "        text-align: right;\n",
       "    }\n",
       "</style>\n",
       "<table border=\"1\" class=\"dataframe\">\n",
       "  <thead>\n",
       "    <tr style=\"text-align: right;\">\n",
       "      <th></th>\n",
       "      <th>FID</th>\n",
       "      <th>Latitude</th>\n",
       "      <th>Longitude</th>\n",
       "      <th>coord</th>\n",
       "    </tr>\n",
       "  </thead>\n",
       "  <tbody>\n",
       "    <tr>\n",
       "      <th>0</th>\n",
       "      <td>0</td>\n",
       "      <td>40.703466</td>\n",
       "      <td>-74.007538</td>\n",
       "      <td>0</td>\n",
       "    </tr>\n",
       "    <tr>\n",
       "      <th>1</th>\n",
       "      <td>1</td>\n",
       "      <td>40.710072</td>\n",
       "      <td>-74.012523</td>\n",
       "      <td>0</td>\n",
       "    </tr>\n",
       "    <tr>\n",
       "      <th>2</th>\n",
       "      <td>2</td>\n",
       "      <td>40.710048</td>\n",
       "      <td>-74.005245</td>\n",
       "      <td>0</td>\n",
       "    </tr>\n",
       "  </tbody>\n",
       "</table>\n",
       "</div>"
      ],
      "text/plain": [
       "   FID   Latitude  Longitude coord\n",
       "0    0  40.703466 -74.007538     0\n",
       "1    1  40.710072 -74.012523     0\n",
       "2    2  40.710048 -74.005245     0"
      ]
     },
     "execution_count": 8,
     "metadata": {},
     "output_type": "execute_result"
    }
   ],
   "source": [
    "df[:3]"
   ]
  },
  {
   "cell_type": "code",
   "execution_count": 9,
   "metadata": {},
   "outputs": [],
   "source": [
    "df['coord'] = df.apply(lambda x:'(%s,%s)' % (x['Latitude'],x['Longitude']),axis=1)"
   ]
  },
  {
   "cell_type": "code",
   "execution_count": 10,
   "metadata": {},
   "outputs": [
    {
     "data": {
      "text/html": [
       "<div>\n",
       "<style scoped>\n",
       "    .dataframe tbody tr th:only-of-type {\n",
       "        vertical-align: middle;\n",
       "    }\n",
       "\n",
       "    .dataframe tbody tr th {\n",
       "        vertical-align: top;\n",
       "    }\n",
       "\n",
       "    .dataframe thead th {\n",
       "        text-align: right;\n",
       "    }\n",
       "</style>\n",
       "<table border=\"1\" class=\"dataframe\">\n",
       "  <thead>\n",
       "    <tr style=\"text-align: right;\">\n",
       "      <th></th>\n",
       "      <th>FID</th>\n",
       "      <th>Latitude</th>\n",
       "      <th>Longitude</th>\n",
       "      <th>coord</th>\n",
       "    </tr>\n",
       "  </thead>\n",
       "  <tbody>\n",
       "    <tr>\n",
       "      <th>0</th>\n",
       "      <td>0</td>\n",
       "      <td>40.703466</td>\n",
       "      <td>-74.007538</td>\n",
       "      <td>(40.703466,-74.007538)</td>\n",
       "    </tr>\n",
       "    <tr>\n",
       "      <th>1</th>\n",
       "      <td>1</td>\n",
       "      <td>40.710072</td>\n",
       "      <td>-74.012523</td>\n",
       "      <td>(40.710072,-74.012523)</td>\n",
       "    </tr>\n",
       "    <tr>\n",
       "      <th>2</th>\n",
       "      <td>2</td>\n",
       "      <td>40.710048</td>\n",
       "      <td>-74.005245</td>\n",
       "      <td>(40.710048,-74.005245)</td>\n",
       "    </tr>\n",
       "    <tr>\n",
       "      <th>3</th>\n",
       "      <td>3</td>\n",
       "      <td>40.715463</td>\n",
       "      <td>-74.005938</td>\n",
       "      <td>(40.715463,-74.005938)</td>\n",
       "    </tr>\n",
       "    <tr>\n",
       "      <th>4</th>\n",
       "      <td>4</td>\n",
       "      <td>40.719759</td>\n",
       "      <td>-74.006678</td>\n",
       "      <td>(40.719759,-74.00667800000001)</td>\n",
       "    </tr>\n",
       "  </tbody>\n",
       "</table>\n",
       "</div>"
      ],
      "text/plain": [
       "   FID   Latitude  Longitude                           coord\n",
       "0    0  40.703466 -74.007538          (40.703466,-74.007538)\n",
       "1    1  40.710072 -74.012523          (40.710072,-74.012523)\n",
       "2    2  40.710048 -74.005245          (40.710048,-74.005245)\n",
       "3    3  40.715463 -74.005938          (40.715463,-74.005938)\n",
       "4    4  40.719759 -74.006678  (40.719759,-74.00667800000001)"
      ]
     },
     "execution_count": 10,
     "metadata": {},
     "output_type": "execute_result"
    }
   ],
   "source": [
    "df.head()"
   ]
  },
  {
   "cell_type": "code",
   "execution_count": 11,
   "metadata": {},
   "outputs": [],
   "source": [
    "df.to_csv('/Users/jiangna/Desktop/fire_coor.csv')"
   ]
  },
  {
   "cell_type": "code",
   "execution_count": 30,
   "metadata": {
    "collapsed": true
   },
   "outputs": [],
   "source": [
    "work_tb['Coord']='0'"
   ]
  },
  {
   "cell_type": "code",
   "execution_count": 31,
   "metadata": {
    "collapsed": true
   },
   "outputs": [],
   "source": [
    "work_tb['Coord']=work_tb.apply(lambda x:'(%s,%s)' % (x['long'],x['lat']),axis=1)"
   ]
  },
  {
   "cell_type": "code",
   "execution_count": 32,
   "metadata": {},
   "outputs": [
    {
     "data": {
      "text/html": [
       "<div>\n",
       "<table border=\"1\" class=\"dataframe\">\n",
       "  <thead>\n",
       "    <tr style=\"text-align: right;\">\n",
       "      <th></th>\n",
       "      <th>Unnamed: 0</th>\n",
       "      <th>wrkID</th>\n",
       "      <th>long</th>\n",
       "      <th>lat</th>\n",
       "      <th>rdID</th>\n",
       "      <th>geometry</th>\n",
       "      <th>Coord</th>\n",
       "    </tr>\n",
       "  </thead>\n",
       "  <tbody>\n",
       "    <tr>\n",
       "      <th>0</th>\n",
       "      <td>0</td>\n",
       "      <td>36061010000w1008</td>\n",
       "      <td>-73.971243</td>\n",
       "      <td>40.760937</td>\n",
       "      <td>153710</td>\n",
       "      <td>MULTIPOINT (-73.971243 40.760937)</td>\n",
       "      <td>(-73.971243,40.760937)</td>\n",
       "    </tr>\n",
       "    <tr>\n",
       "      <th>1</th>\n",
       "      <td>1</td>\n",
       "      <td>36061010000w1013</td>\n",
       "      <td>-73.971243</td>\n",
       "      <td>40.760937</td>\n",
       "      <td>153710</td>\n",
       "      <td>MULTIPOINT (-73.971243 40.760937)</td>\n",
       "      <td>(-73.971243,40.760937)</td>\n",
       "    </tr>\n",
       "    <tr>\n",
       "      <th>2</th>\n",
       "      <td>2</td>\n",
       "      <td>36061010000w1017</td>\n",
       "      <td>-73.971243</td>\n",
       "      <td>40.760937</td>\n",
       "      <td>153710</td>\n",
       "      <td>MULTIPOINT (-73.971243 40.760937)</td>\n",
       "      <td>(-73.971243,40.760937)</td>\n",
       "    </tr>\n",
       "  </tbody>\n",
       "</table>\n",
       "</div>"
      ],
      "text/plain": [
       "   Unnamed: 0             wrkID       long        lat    rdID  \\\n",
       "0           0  36061010000w1008 -73.971243  40.760937  153710   \n",
       "1           1  36061010000w1013 -73.971243  40.760937  153710   \n",
       "2           2  36061010000w1017 -73.971243  40.760937  153710   \n",
       "\n",
       "                            geometry                   Coord  \n",
       "0  MULTIPOINT (-73.971243 40.760937)  (-73.971243,40.760937)  \n",
       "1  MULTIPOINT (-73.971243 40.760937)  (-73.971243,40.760937)  \n",
       "2  MULTIPOINT (-73.971243 40.760937)  (-73.971243,40.760937)  "
      ]
     },
     "execution_count": 32,
     "metadata": {},
     "output_type": "execute_result"
    }
   ],
   "source": [
    "work_tb[:3]"
   ]
  },
  {
   "cell_type": "code",
   "execution_count": 36,
   "metadata": {},
   "outputs": [],
   "source": [
    "hos_tb['Coord']= hos_tb['geometry']"
   ]
  },
  {
   "cell_type": "code",
   "execution_count": 37,
   "metadata": {},
   "outputs": [
    {
     "data": {
      "text/html": [
       "<div>\n",
       "<table border=\"1\" class=\"dataframe\">\n",
       "  <thead>\n",
       "    <tr style=\"text-align: right;\">\n",
       "      <th></th>\n",
       "      <th>Hospital</th>\n",
       "      <th>Latitude</th>\n",
       "      <th>Longitude</th>\n",
       "      <th>geometry</th>\n",
       "      <th>Coord</th>\n",
       "    </tr>\n",
       "  </thead>\n",
       "  <tbody>\n",
       "    <tr>\n",
       "      <th>0</th>\n",
       "      <td>Bronx Lebanon Hospital Center 1650 Grand Conco...</td>\n",
       "      <td>40.843396</td>\n",
       "      <td>-73.911038</td>\n",
       "      <td>(-73.9110377,40.8433956)</td>\n",
       "      <td>(-73.9110377,40.8433956)</td>\n",
       "    </tr>\n",
       "    <tr>\n",
       "      <th>1</th>\n",
       "      <td>Calvary Hospital 1740 Eastchester Road Bronx, ...</td>\n",
       "      <td>40.848008</td>\n",
       "      <td>-73.844049</td>\n",
       "      <td>(-73.8440486,40.8480084)</td>\n",
       "      <td>(-73.8440486,40.8480084)</td>\n",
       "    </tr>\n",
       "    <tr>\n",
       "      <th>2</th>\n",
       "      <td>Jacobi Medical Center Pelham Parkway South and...</td>\n",
       "      <td>40.856029</td>\n",
       "      <td>-73.846363</td>\n",
       "      <td>(-73.8463633,40.8560285)</td>\n",
       "      <td>(-73.8463633,40.8560285)</td>\n",
       "    </tr>\n",
       "  </tbody>\n",
       "</table>\n",
       "</div>"
      ],
      "text/plain": [
       "                                            Hospital   Latitude  Longitude  \\\n",
       "0  Bronx Lebanon Hospital Center 1650 Grand Conco...  40.843396 -73.911038   \n",
       "1  Calvary Hospital 1740 Eastchester Road Bronx, ...  40.848008 -73.844049   \n",
       "2  Jacobi Medical Center Pelham Parkway South and...  40.856029 -73.846363   \n",
       "\n",
       "                   geometry                     Coord  \n",
       "0  (-73.9110377,40.8433956)  (-73.9110377,40.8433956)  \n",
       "1  (-73.8440486,40.8480084)  (-73.8440486,40.8480084)  \n",
       "2  (-73.8463633,40.8560285)  (-73.8463633,40.8560285)  "
      ]
     },
     "execution_count": 37,
     "metadata": {},
     "output_type": "execute_result"
    }
   ],
   "source": [
    "hos_tb[:3]"
   ]
  },
  {
   "cell_type": "code",
   "execution_count": 38,
   "metadata": {
    "collapsed": true
   },
   "outputs": [],
   "source": [
    "hos_tb.to_csv('hos_with_coor.csv')"
   ]
  },
  {
   "cell_type": "code",
   "execution_count": 40,
   "metadata": {},
   "outputs": [],
   "source": [
    "work_tb.to_csv('work_with_coor.csv')"
   ]
  }
 ],
 "metadata": {
  "kernelspec": {
   "display_name": "Python 3",
   "language": "python",
   "name": "python3"
  },
  "language_info": {
   "codemirror_mode": {
    "name": "ipython",
    "version": 3
   },
   "file_extension": ".py",
   "mimetype": "text/x-python",
   "name": "python",
   "nbconvert_exporter": "python",
   "pygments_lexer": "ipython3",
   "version": "3.6.5"
  }
 },
 "nbformat": 4,
 "nbformat_minor": 2
}
