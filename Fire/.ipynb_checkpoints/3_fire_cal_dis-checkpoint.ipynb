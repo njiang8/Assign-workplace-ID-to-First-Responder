{
 "cells": [
  {
   "cell_type": "code",
   "execution_count": 21,
   "metadata": {},
   "outputs": [],
   "source": [
    "import pandas as pd\n",
    "import numpy as npy\n",
    "import geopy\n",
    "\n",
    "#Load\n",
    "pol = pd.read_csv('/Users/jiangna/Desktop/pid_with_coor.csv')\n",
    "work = pd.read_csv('/Users/jiangna/Desktop/work_without_hos.csv')\n",
    "\n"
   ]
  },
  {
   "cell_type": "code",
   "execution_count": 22,
   "metadata": {},
   "outputs": [],
   "source": [
    "#get coord #To LIST\n",
    "polcors = pol.loc[:,'Coord'].tolist()\n",
    "workcors = work.loc[:,'Coord'].tolist()"
   ]
  },
  {
   "cell_type": "code",
   "execution_count": 23,
   "metadata": {},
   "outputs": [],
   "source": [
    "#caculate distance\n",
    "from geopy import distance\n",
    "output =[]\n",
    "pol_len = len(polcors)\n",
    "work_len = len(workcors)"
   ]
  },
  {
   "cell_type": "code",
   "execution_count": 24,
   "metadata": {},
   "outputs": [
    {
     "name": "stdout",
     "output_type": "stream",
     "text": [
      "77\n",
      "273492\n"
     ]
    }
   ],
   "source": [
    "print(pol_len)\n",
    "print(work_len)"
   ]
  },
  {
   "cell_type": "code",
   "execution_count": 26,
   "metadata": {},
   "outputs": [],
   "source": [
    "for i in range(0,pol_len):\n",
    "    dist = [distance.distance(polcors[i], workcors[j]).km for j in range(0, work_len)]\n",
    "    output.append(dist)\n",
    "\n",
    "hosdis = pd.DataFrame(output)\n",
    "hosdist = hosdis.T\n",
    "hosdist['wrkID'] = work['wrkID']\n",
    "hosdist.to_csv('/Users/jiangna/Desktop/poldist_f.csv')"
   ]
  },
  {
   "cell_type": "code",
   "execution_count": null,
   "metadata": {},
   "outputs": [],
   "source": []
  }
 ],
 "metadata": {
  "kernelspec": {
   "display_name": "Python 3",
   "language": "python",
   "name": "python3"
  },
  "language_info": {
   "codemirror_mode": {
    "name": "ipython",
    "version": 3
   },
   "file_extension": ".py",
   "mimetype": "text/x-python",
   "name": "python",
   "nbconvert_exporter": "python",
   "pygments_lexer": "ipython3",
   "version": "3.6.5"
  }
 },
 "nbformat": 4,
 "nbformat_minor": 2
}
