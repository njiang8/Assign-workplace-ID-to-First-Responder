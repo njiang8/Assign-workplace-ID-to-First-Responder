{
 "cells": [
  {
   "cell_type": "code",
   "execution_count": 7,
   "metadata": {},
   "outputs": [],
   "source": [
    "import pandas as pd\n",
    "import numpy as npy\n",
    "import geopy\n",
    "\n",
    "#Load\n",
    "fire = pd.read_csv('/Users/jiangna/Desktop/fire_coor.csv')\n",
    "work = pd.read_csv('/Users/jiangna/Desktop/work_without_hos_pol.csv')"
   ]
  },
  {
   "cell_type": "code",
   "execution_count": 8,
   "metadata": {},
   "outputs": [
    {
     "data": {
      "text/plain": [
       "(213, 4)"
      ]
     },
     "execution_count": 8,
     "metadata": {},
     "output_type": "execute_result"
    }
   ],
   "source": [
    "fire.shape"
   ]
  },
  {
   "cell_type": "code",
   "execution_count": 9,
   "metadata": {},
   "outputs": [],
   "source": [
    "#get coord #To LIST\n",
    "firecors = fire.loc[:,'coord'].tolist()\n",
    "workcors = work.loc[:,'Coord'].tolist()"
   ]
  },
  {
   "cell_type": "code",
   "execution_count": 11,
   "metadata": {},
   "outputs": [],
   "source": [
    "#caculate distance\n",
    "from geopy import distance\n",
    "output =[]\n",
    "fire_len = len(firecors)\n",
    "work_len = len(workcors)"
   ]
  },
  {
   "cell_type": "code",
   "execution_count": 13,
   "metadata": {},
   "outputs": [
    {
     "name": "stdout",
     "output_type": "stream",
     "text": [
      "213\n",
      "269013\n"
     ]
    }
   ],
   "source": [
    "print(fire_len)\n",
    "print(work_len)"
   ]
  },
  {
   "cell_type": "code",
   "execution_count": 14,
   "metadata": {},
   "outputs": [],
   "source": [
    "for i in range(0,fire_len):\n",
    "    dist = [distance.distance(firecors[i], workcors[j]).km for j in range(0, work_len)]\n",
    "    output.append(dist)\n",
    "\n",
    "hosdis = pd.DataFrame(output)\n",
    "hosdist = hosdis.T\n",
    "hosdist['wrkID'] = work['wrkID']\n",
    "hosdist.to_csv('/Users/jiangna/Desktop/poldist_fire.csv')"
   ]
  },
  {
   "cell_type": "code",
   "execution_count": null,
   "metadata": {},
   "outputs": [],
   "source": []
  }
 ],
 "metadata": {
  "kernelspec": {
   "display_name": "Python 3",
   "language": "python",
   "name": "python3"
  },
  "language_info": {
   "codemirror_mode": {
    "name": "ipython",
    "version": 3
   },
   "file_extension": ".py",
   "mimetype": "text/x-python",
   "name": "python",
   "nbconvert_exporter": "python",
   "pygments_lexer": "ipython3",
   "version": "3.6.5"
  }
 },
 "nbformat": 4,
 "nbformat_minor": 2
}
