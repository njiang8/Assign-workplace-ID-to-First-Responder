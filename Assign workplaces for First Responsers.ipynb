{
 "cells": [
  {
   "cell_type": "markdown",
   "metadata": {},
   "source": [
    "# Assign wrkID for First Responsers"
   ]
  },
  {
   "cell_type": "code",
   "execution_count": 1,
   "metadata": {},
   "outputs": [],
   "source": [
    "import pandas as pd\n",
    "import numpy as npy\n",
    "import geopy\n",
    "import geopandas as gpd"
   ]
  },
  {
   "cell_type": "markdown",
   "metadata": {},
   "source": [
    "## Read Data"
   ]
  },
  {
   "cell_type": "code",
   "execution_count": 4,
   "metadata": {},
   "outputs": [
    {
     "data": {
      "text/plain": [
       "{'init': 'epsg:4269'}"
      ]
     },
     "execution_count": 4,
     "metadata": {},
     "output_type": "execute_result"
    }
   ],
   "source": [
    "#Load Census Tract\n",
    "tract = gpd.read_file('../A6_Re_CreatePop_Jun/Data/Census_Cleaned.shp')#.set_index('GEOID10')\n",
    "tract.crs"
   ]
  },
  {
   "cell_type": "code",
   "execution_count": 4,
   "metadata": {},
   "outputs": [],
   "source": [
    "#WrkID and Location\n",
    "work = pd.read_csv('../Model_P/1_Results/wrkplace_Jun_Richard.csv').iloc[:,1:]"
   ]
  },
  {
   "cell_type": "code",
   "execution_count": 5,
   "metadata": {},
   "outputs": [
    {
     "data": {
      "text/html": [
       "<div>\n",
       "<style scoped>\n",
       "    .dataframe tbody tr th:only-of-type {\n",
       "        vertical-align: middle;\n",
       "    }\n",
       "\n",
       "    .dataframe tbody tr th {\n",
       "        vertical-align: top;\n",
       "    }\n",
       "\n",
       "    .dataframe thead th {\n",
       "        text-align: right;\n",
       "    }\n",
       "</style>\n",
       "<table border=\"1\" class=\"dataframe\">\n",
       "  <thead>\n",
       "    <tr style=\"text-align: right;\">\n",
       "      <th></th>\n",
       "      <th>Hospital</th>\n",
       "      <th>geometry</th>\n",
       "      <th>hosID</th>\n",
       "      <th>Pop</th>\n",
       "    </tr>\n",
       "  </thead>\n",
       "  <tbody>\n",
       "    <tr>\n",
       "      <th>0</th>\n",
       "      <td>Englewood Hospital &amp; Medical Center</td>\n",
       "      <td>POINT (-73.968469 40.903997)</td>\n",
       "      <td>34003015200hs0</td>\n",
       "      <td>2500</td>\n",
       "    </tr>\n",
       "    <tr>\n",
       "      <th>1</th>\n",
       "      <td>Hackensack University Medical Center</td>\n",
       "      <td>POINT (-74.055982 40.88406)</td>\n",
       "      <td>34003023402hs0</td>\n",
       "      <td>5000</td>\n",
       "    </tr>\n",
       "    <tr>\n",
       "      <th>2</th>\n",
       "      <td>Holy Name Hospital</td>\n",
       "      <td>POINT (-74.010501 40.882953)</td>\n",
       "      <td>34003054500hs0</td>\n",
       "      <td>3000</td>\n",
       "    </tr>\n",
       "    <tr>\n",
       "      <th>3</th>\n",
       "      <td>CarePoint Health - Christ Hospital</td>\n",
       "      <td>POINT (-74.049665 40.734307)</td>\n",
       "      <td>34017001400hs0</td>\n",
       "      <td>2000</td>\n",
       "    </tr>\n",
       "    <tr>\n",
       "      <th>4</th>\n",
       "      <td>RWJ Barnabas Health - Jersey City Medical Center</td>\n",
       "      <td>POINT (-74.05233699999998 40.717997)</td>\n",
       "      <td>34017006500hs0</td>\n",
       "      <td>9000</td>\n",
       "    </tr>\n",
       "  </tbody>\n",
       "</table>\n",
       "</div>"
      ],
      "text/plain": [
       "                                           Hospital  \\\n",
       "0               Englewood Hospital & Medical Center   \n",
       "1              Hackensack University Medical Center   \n",
       "2                                Holy Name Hospital   \n",
       "3                CarePoint Health - Christ Hospital   \n",
       "4  RWJ Barnabas Health - Jersey City Medical Center   \n",
       "\n",
       "                               geometry           hosID   Pop  \n",
       "0          POINT (-73.968469 40.903997)  34003015200hs0  2500  \n",
       "1           POINT (-74.055982 40.88406)  34003023402hs0  5000  \n",
       "2          POINT (-74.010501 40.882953)  34003054500hs0  3000  \n",
       "3          POINT (-74.049665 40.734307)  34017001400hs0  2000  \n",
       "4  POINT (-74.05233699999998 40.717997)  34017006500hs0  9000  "
      ]
     },
     "execution_count": 5,
     "metadata": {},
     "output_type": "execute_result"
    }
   ],
   "source": [
    "#hospital\n",
    "hos = pd.read_csv('O_Tables/Hos_ID_Pop.csv')#.iloc[:,2:]\n",
    "hos.head()"
   ]
  },
  {
   "cell_type": "code",
   "execution_count": 12,
   "metadata": {},
   "outputs": [
    {
     "data": {
      "text/html": [
       "<div>\n",
       "<style scoped>\n",
       "    .dataframe tbody tr th:only-of-type {\n",
       "        vertical-align: middle;\n",
       "    }\n",
       "\n",
       "    .dataframe tbody tr th {\n",
       "        vertical-align: top;\n",
       "    }\n",
       "\n",
       "    .dataframe thead th {\n",
       "        text-align: right;\n",
       "    }\n",
       "</style>\n",
       "<table border=\"1\" class=\"dataframe\">\n",
       "  <thead>\n",
       "    <tr style=\"text-align: right;\">\n",
       "      <th></th>\n",
       "      <th>FID</th>\n",
       "      <th>Latitude</th>\n",
       "      <th>Longitude</th>\n",
       "      <th>coord</th>\n",
       "    </tr>\n",
       "  </thead>\n",
       "  <tbody>\n",
       "    <tr>\n",
       "      <th>0</th>\n",
       "      <td>0</td>\n",
       "      <td>40.703466</td>\n",
       "      <td>-74.007538</td>\n",
       "      <td>(40.703466,-74.007538)</td>\n",
       "    </tr>\n",
       "    <tr>\n",
       "      <th>1</th>\n",
       "      <td>1</td>\n",
       "      <td>40.710072</td>\n",
       "      <td>-74.012523</td>\n",
       "      <td>(40.710072,-74.012523)</td>\n",
       "    </tr>\n",
       "    <tr>\n",
       "      <th>2</th>\n",
       "      <td>2</td>\n",
       "      <td>40.710048</td>\n",
       "      <td>-74.005245</td>\n",
       "      <td>(40.710048,-74.005245)</td>\n",
       "    </tr>\n",
       "    <tr>\n",
       "      <th>3</th>\n",
       "      <td>3</td>\n",
       "      <td>40.715463</td>\n",
       "      <td>-74.005938</td>\n",
       "      <td>(40.715463,-74.005938)</td>\n",
       "    </tr>\n",
       "    <tr>\n",
       "      <th>4</th>\n",
       "      <td>4</td>\n",
       "      <td>40.719759</td>\n",
       "      <td>-74.006678</td>\n",
       "      <td>(40.719759,-74.00667800000001)</td>\n",
       "    </tr>\n",
       "  </tbody>\n",
       "</table>\n",
       "</div>"
      ],
      "text/plain": [
       "   FID   Latitude  Longitude                           coord\n",
       "0    0  40.703466 -74.007538          (40.703466,-74.007538)\n",
       "1    1  40.710072 -74.012523          (40.710072,-74.012523)\n",
       "2    2  40.710048 -74.005245          (40.710048,-74.005245)\n",
       "3    3  40.715463 -74.005938          (40.715463,-74.005938)\n",
       "4    4  40.719759 -74.006678  (40.719759,-74.00667800000001)"
      ]
     },
     "execution_count": 12,
     "metadata": {},
     "output_type": "execute_result"
    }
   ],
   "source": [
    "#Fire Station\n",
    "fire = pd.read_csv('O_Tables/Fire_coor.csv')\n",
    "fire.head()"
   ]
  },
  {
   "cell_type": "code",
   "execution_count": 7,
   "metadata": {},
   "outputs": [
    {
     "data": {
      "text/html": [
       "<div>\n",
       "<style scoped>\n",
       "    .dataframe tbody tr th:only-of-type {\n",
       "        vertical-align: middle;\n",
       "    }\n",
       "\n",
       "    .dataframe tbody tr th {\n",
       "        vertical-align: top;\n",
       "    }\n",
       "\n",
       "    .dataframe thead th {\n",
       "        text-align: right;\n",
       "    }\n",
       "</style>\n",
       "<table border=\"1\" class=\"dataframe\">\n",
       "  <thead>\n",
       "    <tr style=\"text-align: right;\">\n",
       "      <th></th>\n",
       "      <th>Precinct</th>\n",
       "      <th>Address</th>\n",
       "      <th>Lat</th>\n",
       "      <th>Long</th>\n",
       "    </tr>\n",
       "  </thead>\n",
       "  <tbody>\n",
       "    <tr>\n",
       "      <th>0</th>\n",
       "      <td>1st Precinct</td>\n",
       "      <td>16 Ericsson Place New York, NY, 10013</td>\n",
       "      <td>40.720270</td>\n",
       "      <td>-74.007198</td>\n",
       "    </tr>\n",
       "    <tr>\n",
       "      <th>1</th>\n",
       "      <td>5th Precinct</td>\n",
       "      <td>19 Elizabeth Street New York, NY, 10013</td>\n",
       "      <td>40.716187</td>\n",
       "      <td>-73.997465</td>\n",
       "    </tr>\n",
       "    <tr>\n",
       "      <th>2</th>\n",
       "      <td>6th Precinct</td>\n",
       "      <td>233 West 10 Street New York, NY, 10014</td>\n",
       "      <td>40.734233</td>\n",
       "      <td>-74.005453</td>\n",
       "    </tr>\n",
       "    <tr>\n",
       "      <th>3</th>\n",
       "      <td>7th Precinct</td>\n",
       "      <td>19 1/2 Pitt Street New York, NY, 10002</td>\n",
       "      <td>40.716362</td>\n",
       "      <td>-73.983934</td>\n",
       "    </tr>\n",
       "    <tr>\n",
       "      <th>4</th>\n",
       "      <td>9th Precinct</td>\n",
       "      <td>321 East 5 Street New York, NY, 10003</td>\n",
       "      <td>40.726559</td>\n",
       "      <td>-73.987824</td>\n",
       "    </tr>\n",
       "  </tbody>\n",
       "</table>\n",
       "</div>"
      ],
      "text/plain": [
       "       Precinct                                  Address        Lat       Long\n",
       "0  1st Precinct    16 Ericsson Place New York, NY, 10013  40.720270 -74.007198\n",
       "1  5th Precinct  19 Elizabeth Street New York, NY, 10013  40.716187 -73.997465\n",
       "2  6th Precinct   233 West 10 Street New York, NY, 10014  40.734233 -74.005453\n",
       "3  7th Precinct   19 1/2 Pitt Street New York, NY, 10002  40.716362 -73.983934\n",
       "4  9th Precinct    321 East 5 Street New York, NY, 10003  40.726559 -73.987824"
      ]
     },
     "execution_count": 7,
     "metadata": {},
     "output_type": "execute_result"
    }
   ],
   "source": [
    "#Police Statiopn\n",
    "pol = pd.read_csv('O_Tables/P_table.csv')#.iloc[:,]\n",
    "pol.head()"
   ]
  },
  {
   "cell_type": "code",
   "execution_count": 13,
   "metadata": {},
   "outputs": [
    {
     "data": {
      "text/html": [
       "<div>\n",
       "<style scoped>\n",
       "    .dataframe tbody tr th:only-of-type {\n",
       "        vertical-align: middle;\n",
       "    }\n",
       "\n",
       "    .dataframe tbody tr th {\n",
       "        vertical-align: top;\n",
       "    }\n",
       "\n",
       "    .dataframe thead th {\n",
       "        text-align: right;\n",
       "    }\n",
       "</style>\n",
       "<table border=\"1\" class=\"dataframe\">\n",
       "  <thead>\n",
       "    <tr style=\"text-align: right;\">\n",
       "      <th></th>\n",
       "      <th>wrkID</th>\n",
       "      <th>pop</th>\n",
       "      <th>long</th>\n",
       "      <th>lat</th>\n",
       "      <th>geometry</th>\n",
       "    </tr>\n",
       "  </thead>\n",
       "  <tbody>\n",
       "    <tr>\n",
       "      <th>0</th>\n",
       "      <td>34003001000w0</td>\n",
       "      <td>1</td>\n",
       "      <td>-74.121686</td>\n",
       "      <td>41.045676</td>\n",
       "      <td>POINT (-74.12168600020868 41.04567600014735)</td>\n",
       "    </tr>\n",
       "    <tr>\n",
       "      <th>1</th>\n",
       "      <td>34003001000w1</td>\n",
       "      <td>2</td>\n",
       "      <td>-74.125241</td>\n",
       "      <td>41.041460</td>\n",
       "      <td>POINT (-74.12524099957244 41.04145999997905)</td>\n",
       "    </tr>\n",
       "    <tr>\n",
       "      <th>2</th>\n",
       "      <td>34003001000w10</td>\n",
       "      <td>2</td>\n",
       "      <td>-74.124340</td>\n",
       "      <td>41.031408</td>\n",
       "      <td>POINT (-74.12434000029072 41.03140799957959)</td>\n",
       "    </tr>\n",
       "    <tr>\n",
       "      <th>3</th>\n",
       "      <td>34003001000w100</td>\n",
       "      <td>10</td>\n",
       "      <td>-74.126718</td>\n",
       "      <td>41.044800</td>\n",
       "      <td>POINT (-74.12671800023548 41.04480000021989)</td>\n",
       "    </tr>\n",
       "    <tr>\n",
       "      <th>4</th>\n",
       "      <td>34003001000w101</td>\n",
       "      <td>7</td>\n",
       "      <td>-74.131662</td>\n",
       "      <td>41.033328</td>\n",
       "      <td>POINT (-74.13166199980139 41.03332799998725)</td>\n",
       "    </tr>\n",
       "  </tbody>\n",
       "</table>\n",
       "</div>"
      ],
      "text/plain": [
       "             wrkID  pop       long        lat  \\\n",
       "0    34003001000w0    1 -74.121686  41.045676   \n",
       "1    34003001000w1    2 -74.125241  41.041460   \n",
       "2   34003001000w10    2 -74.124340  41.031408   \n",
       "3  34003001000w100   10 -74.126718  41.044800   \n",
       "4  34003001000w101    7 -74.131662  41.033328   \n",
       "\n",
       "                                       geometry  \n",
       "0  POINT (-74.12168600020868 41.04567600014735)  \n",
       "1  POINT (-74.12524099957244 41.04145999997905)  \n",
       "2  POINT (-74.12434000029072 41.03140799957959)  \n",
       "3  POINT (-74.12671800023548 41.04480000021989)  \n",
       "4  POINT (-74.13166199980139 41.03332799998725)  "
      ]
     },
     "execution_count": 13,
     "metadata": {},
     "output_type": "execute_result"
    }
   ],
   "source": [
    "workpop = pd.read_csv('work_pop.csv').iloc[:,1:]\n",
    "workpop.head()"
   ]
  },
  {
   "cell_type": "code",
   "execution_count": 9,
   "metadata": {},
   "outputs": [],
   "source": [
    "#change the file from csv to shp\n",
    "def To_Gpd(data):\n",
    "    from shapely.geometry import Point\n",
    "    from shapely import wkt\n",
    "    #data['geometry'] = hos['geometry'].apply(wkt.loads)\n",
    "    try:\n",
    "        data['geometry'] = data.apply(lambda x: Point((float(x.Longitude), float(x.Latitude))), axis = 1)\n",
    "    except:\n",
    "        data['geometry'] = data.apply(lambda x: Point((float(x.Long), float(x.Lat))), axis = 1)\n",
    "    else:\n",
    "        data['geometry'] = data['geometry'].apply(wkt.loads)\n",
    "    data = gpd.GeoDataFrame(data, geometry='geometry')\n",
    "    data.crs = {'epsg:4269'}\n",
    "    return data"
   ]
  },
  {
   "cell_type": "markdown",
   "metadata": {},
   "source": [
    "#### Police "
   ]
  },
  {
   "cell_type": "code",
   "execution_count": 10,
   "metadata": {},
   "outputs": [
    {
     "data": {
      "text/plain": [
       "{'epsg:4269'}"
      ]
     },
     "execution_count": 10,
     "metadata": {},
     "output_type": "execute_result"
    }
   ],
   "source": [
    "ps = To_Gpd(pol)\n",
    "ps.crs"
   ]
  },
  {
   "cell_type": "markdown",
   "metadata": {},
   "source": [
    "#### Fire"
   ]
  },
  {
   "cell_type": "code",
   "execution_count": null,
   "metadata": {},
   "outputs": [],
   "source": [
    "fire = To_Gpd(fire).iloc[:,[0,-1]]\n",
    "fire.crs"
   ]
  },
  {
   "cell_type": "markdown",
   "metadata": {},
   "source": [
    "#### Work Pop"
   ]
  },
  {
   "cell_type": "code",
   "execution_count": null,
   "metadata": {},
   "outputs": [],
   "source": [
    "workpop = To_Gpd(workpop)"
   ]
  },
  {
   "cell_type": "markdown",
   "metadata": {},
   "source": [
    "## Assign Unique HosID FireID and PSID"
   ]
  },
  {
   "cell_type": "code",
   "execution_count": 20,
   "metadata": {},
   "outputs": [],
   "source": [
    "#Spatial Join\n",
    "def join_s(fr,census):\n",
    "    #hos\n",
    "    gdf = gpd.sjoin(fr, census, how = \"inner\", op = 'intersects')\n",
    "    #gdf = gdf.loc[:,['FID','geometry','GEOID10']]\n",
    "    gdf = gdf.loc[:,['geometry','GEOID10']]\n",
    "    gdf.rename(columns={'GEOID10': 'Census'}, inplace=True)\n",
    "    #gdf['HosID'] = gdf.apply(lambda x:'%sh' % (x['Census']),axis=1)\n",
    "    #gdf['FRID'] = gdf.apply(lambda x:'%sf' % (x['Census']),axis=1)\n",
    "    gdf['ID'] = gdf.apply(lambda x:'%sp' % (x['Census']),axis=1)\n",
    "    return gdf"
   ]
  },
  {
   "cell_type": "code",
   "execution_count": 89,
   "metadata": {},
   "outputs": [],
   "source": [
    "#Calculate IDs\n",
    "def assign_ID(data):\n",
    "    cg = data.groupby(data['ID'])\n",
    "    wp = pd.DataFrame()\n",
    "    \n",
    "    for i,j in cg:\n",
    "        group = pd.DataFrame(j).reset_index(drop=True)\n",
    "        for k in range (0,len(group)):\n",
    "            group.iloc[k,2] = k\n",
    "        wp = wp.append(group,ignore_index = True)\n",
    "    \n",
    "    wp['ID'] = wp.apply(lambda x:'%sp%s' % (x['Census'],x['ID']),axis=1)\n",
    "    return wp"
   ]
  },
  {
   "cell_type": "markdown",
   "metadata": {},
   "source": [
    "#### Hospital IDs"
   ]
  },
  {
   "cell_type": "code",
   "execution_count": null,
   "metadata": {},
   "outputs": [],
   "source": [
    "hodid = join_sch(hos,tract)"
   ]
  },
  {
   "cell_type": "code",
   "execution_count": 526,
   "metadata": {},
   "outputs": [],
   "source": [
    "hid = assign_schID(hodid).drop('Census',1)"
   ]
  },
  {
   "cell_type": "markdown",
   "metadata": {},
   "source": [
    "#### FireID"
   ]
  },
  {
   "cell_type": "code",
   "execution_count": null,
   "metadata": {},
   "outputs": [],
   "source": [
    "frid = join_s(fire,tract)"
   ]
  },
  {
   "cell_type": "code",
   "execution_count": 39,
   "metadata": {},
   "outputs": [],
   "source": [
    "fid = assign_ID(frid).drop(['Census', 'FID'],1)"
   ]
  },
  {
   "cell_type": "markdown",
   "metadata": {},
   "source": [
    "#### PoliceStation ID"
   ]
  },
  {
   "cell_type": "code",
   "execution_count": 84,
   "metadata": {},
   "outputs": [],
   "source": [
    "psid = join_s(ps,tract)"
   ]
  },
  {
   "cell_type": "code",
   "execution_count": 92,
   "metadata": {},
   "outputs": [],
   "source": [
    "pid = assign_ID(psid).drop(['Census'],1)"
   ]
  },
  {
   "cell_type": "markdown",
   "metadata": {},
   "source": [
    "## Calculate the Distance to Assign the work places ID"
   ]
  },
  {
   "cell_type": "code",
   "execution_count": 94,
   "metadata": {},
   "outputs": [],
   "source": [
    "def Cal_Dist(x, work):\n",
    "    hosid = []\n",
    "    wrkid = []\n",
    "    for i in x.index:\n",
    "        dist = work.distance(x.loc[i,'geometry']).sort_values()#.reset_index(drop = True)\n",
    "        \n",
    "        wrkid.append(work.loc[dist.index,'wrkID'].reset_index(drop=True))\n",
    "        #AppendID\n",
    "        hosid.append(x.iloc[i,-1])\n",
    "    df = pd.DataFrame(wrkid)\n",
    "    df['hosID'] = hosid\n",
    "    return df"
   ]
  },
  {
   "cell_type": "markdown",
   "metadata": {},
   "source": [
    "#### Fire"
   ]
  },
  {
   "cell_type": "code",
   "execution_count": 42,
   "metadata": {},
   "outputs": [],
   "source": [
    "frdis = Cal_Dist(fid, workpop)"
   ]
  },
  {
   "cell_type": "code",
   "execution_count": 46,
   "metadata": {},
   "outputs": [],
   "source": [
    "frdis =frdis.set_index('hosID').reset_index()"
   ]
  },
  {
   "cell_type": "code",
   "execution_count": 47,
   "metadata": {},
   "outputs": [
    {
     "data": {
      "text/html": [
       "<div>\n",
       "<style scoped>\n",
       "    .dataframe tbody tr th:only-of-type {\n",
       "        vertical-align: middle;\n",
       "    }\n",
       "\n",
       "    .dataframe tbody tr th {\n",
       "        vertical-align: top;\n",
       "    }\n",
       "\n",
       "    .dataframe thead th {\n",
       "        text-align: right;\n",
       "    }\n",
       "</style>\n",
       "<table border=\"1\" class=\"dataframe\">\n",
       "  <thead>\n",
       "    <tr style=\"text-align: right;\">\n",
       "      <th></th>\n",
       "      <th>hosID</th>\n",
       "      <th>0</th>\n",
       "      <th>1</th>\n",
       "      <th>2</th>\n",
       "      <th>3</th>\n",
       "      <th>4</th>\n",
       "      <th>5</th>\n",
       "      <th>6</th>\n",
       "      <th>7</th>\n",
       "      <th>8</th>\n",
       "      <th>...</th>\n",
       "      <th>517087</th>\n",
       "      <th>517088</th>\n",
       "      <th>517089</th>\n",
       "      <th>517090</th>\n",
       "      <th>517091</th>\n",
       "      <th>517092</th>\n",
       "      <th>517093</th>\n",
       "      <th>517094</th>\n",
       "      <th>517095</th>\n",
       "      <th>517096</th>\n",
       "    </tr>\n",
       "  </thead>\n",
       "  <tbody>\n",
       "    <tr>\n",
       "      <th>0</th>\n",
       "      <td>36005004100f0</td>\n",
       "      <td>36005005100w51</td>\n",
       "      <td>36005005100w174</td>\n",
       "      <td>36005005100w154</td>\n",
       "      <td>36005005100w89</td>\n",
       "      <td>36005005100w85</td>\n",
       "      <td>36005005100w10</td>\n",
       "      <td>36005005100w139</td>\n",
       "      <td>36005005100w96</td>\n",
       "      <td>36005005100w159</td>\n",
       "      <td>...</td>\n",
       "      <td>36103201004w20</td>\n",
       "      <td>36103201004w82</td>\n",
       "      <td>36103201004w42</td>\n",
       "      <td>36103170202w12</td>\n",
       "      <td>36103201004w74</td>\n",
       "      <td>36103201004w13</td>\n",
       "      <td>36103201004w63</td>\n",
       "      <td>36103201004w54</td>\n",
       "      <td>36103201004w84</td>\n",
       "      <td>36103201004w27</td>\n",
       "    </tr>\n",
       "    <tr>\n",
       "      <th>1</th>\n",
       "      <td>36005004600f0</td>\n",
       "      <td>36005004600w13</td>\n",
       "      <td>36005004600w5</td>\n",
       "      <td>36005004600w0</td>\n",
       "      <td>36005004600w4</td>\n",
       "      <td>36005004200w101</td>\n",
       "      <td>36005004200w103</td>\n",
       "      <td>36005004200w118</td>\n",
       "      <td>36005004200w129</td>\n",
       "      <td>36005004200w151</td>\n",
       "      <td>...</td>\n",
       "      <td>36103201004w20</td>\n",
       "      <td>36103201004w82</td>\n",
       "      <td>36103201004w42</td>\n",
       "      <td>36103170202w12</td>\n",
       "      <td>36103201004w74</td>\n",
       "      <td>36103201004w13</td>\n",
       "      <td>36103201004w63</td>\n",
       "      <td>36103201004w54</td>\n",
       "      <td>36103201004w84</td>\n",
       "      <td>36103201004w27</td>\n",
       "    </tr>\n",
       "    <tr>\n",
       "      <th>2</th>\n",
       "      <td>36005006500f0</td>\n",
       "      <td>36005006500w767</td>\n",
       "      <td>36005006500w22</td>\n",
       "      <td>36005006500w224</td>\n",
       "      <td>36005006500w196</td>\n",
       "      <td>36005006500w191</td>\n",
       "      <td>36005006500w66</td>\n",
       "      <td>36005006500w28</td>\n",
       "      <td>36005006500w460</td>\n",
       "      <td>36005006500w214</td>\n",
       "      <td>...</td>\n",
       "      <td>36103201004w20</td>\n",
       "      <td>36103201004w82</td>\n",
       "      <td>36103201004w42</td>\n",
       "      <td>36103170202w12</td>\n",
       "      <td>36103201004w74</td>\n",
       "      <td>36103201004w13</td>\n",
       "      <td>36103201004w63</td>\n",
       "      <td>36103201004w54</td>\n",
       "      <td>36103201004w84</td>\n",
       "      <td>36103201004w27</td>\n",
       "    </tr>\n",
       "    <tr>\n",
       "      <th>3</th>\n",
       "      <td>36005006900f0</td>\n",
       "      <td>36005006900w8</td>\n",
       "      <td>36005006700w16</td>\n",
       "      <td>36005006700w18</td>\n",
       "      <td>36005006900w6</td>\n",
       "      <td>36005006700w10</td>\n",
       "      <td>36005006700w21</td>\n",
       "      <td>36005006700w17</td>\n",
       "      <td>36005006900w5</td>\n",
       "      <td>36005006700w13</td>\n",
       "      <td>...</td>\n",
       "      <td>36103201004w20</td>\n",
       "      <td>36103201004w82</td>\n",
       "      <td>36103201004w42</td>\n",
       "      <td>36103170202w12</td>\n",
       "      <td>36103201004w74</td>\n",
       "      <td>36103201004w13</td>\n",
       "      <td>36103201004w63</td>\n",
       "      <td>36103201004w54</td>\n",
       "      <td>36103201004w84</td>\n",
       "      <td>36103201004w27</td>\n",
       "    </tr>\n",
       "    <tr>\n",
       "      <th>4</th>\n",
       "      <td>36005007900f0</td>\n",
       "      <td>36005008300w42</td>\n",
       "      <td>36005008300w56</td>\n",
       "      <td>36005008300w19</td>\n",
       "      <td>36005008300w52</td>\n",
       "      <td>36005008300w25</td>\n",
       "      <td>36005008300w16</td>\n",
       "      <td>36005008300w49</td>\n",
       "      <td>36005008300w21</td>\n",
       "      <td>36005008300w41</td>\n",
       "      <td>...</td>\n",
       "      <td>36103201004w20</td>\n",
       "      <td>36103201004w82</td>\n",
       "      <td>36103201004w42</td>\n",
       "      <td>36103170202w12</td>\n",
       "      <td>36103201004w13</td>\n",
       "      <td>36103201004w74</td>\n",
       "      <td>36103201004w63</td>\n",
       "      <td>36103201004w54</td>\n",
       "      <td>36103201004w84</td>\n",
       "      <td>36103201004w27</td>\n",
       "    </tr>\n",
       "  </tbody>\n",
       "</table>\n",
       "<p>5 rows × 517098 columns</p>\n",
       "</div>"
      ],
      "text/plain": [
       "           hosID                0                1                2  \\\n",
       "0  36005004100f0   36005005100w51  36005005100w174  36005005100w154   \n",
       "1  36005004600f0   36005004600w13    36005004600w5    36005004600w0   \n",
       "2  36005006500f0  36005006500w767   36005006500w22  36005006500w224   \n",
       "3  36005006900f0    36005006900w8   36005006700w16   36005006700w18   \n",
       "4  36005007900f0   36005008300w42   36005008300w56   36005008300w19   \n",
       "\n",
       "                 3                4                5                6  \\\n",
       "0   36005005100w89   36005005100w85   36005005100w10  36005005100w139   \n",
       "1    36005004600w4  36005004200w101  36005004200w103  36005004200w118   \n",
       "2  36005006500w196  36005006500w191   36005006500w66   36005006500w28   \n",
       "3    36005006900w6   36005006700w10   36005006700w21   36005006700w17   \n",
       "4   36005008300w52   36005008300w25   36005008300w16   36005008300w49   \n",
       "\n",
       "                 7                8       ...                517087  \\\n",
       "0   36005005100w96  36005005100w159       ...        36103201004w20   \n",
       "1  36005004200w129  36005004200w151       ...        36103201004w20   \n",
       "2  36005006500w460  36005006500w214       ...        36103201004w20   \n",
       "3    36005006900w5   36005006700w13       ...        36103201004w20   \n",
       "4   36005008300w21   36005008300w41       ...        36103201004w20   \n",
       "\n",
       "           517088          517089          517090          517091  \\\n",
       "0  36103201004w82  36103201004w42  36103170202w12  36103201004w74   \n",
       "1  36103201004w82  36103201004w42  36103170202w12  36103201004w74   \n",
       "2  36103201004w82  36103201004w42  36103170202w12  36103201004w74   \n",
       "3  36103201004w82  36103201004w42  36103170202w12  36103201004w74   \n",
       "4  36103201004w82  36103201004w42  36103170202w12  36103201004w13   \n",
       "\n",
       "           517092          517093          517094          517095  \\\n",
       "0  36103201004w13  36103201004w63  36103201004w54  36103201004w84   \n",
       "1  36103201004w13  36103201004w63  36103201004w54  36103201004w84   \n",
       "2  36103201004w13  36103201004w63  36103201004w54  36103201004w84   \n",
       "3  36103201004w13  36103201004w63  36103201004w54  36103201004w84   \n",
       "4  36103201004w74  36103201004w63  36103201004w54  36103201004w84   \n",
       "\n",
       "           517096  \n",
       "0  36103201004w27  \n",
       "1  36103201004w27  \n",
       "2  36103201004w27  \n",
       "3  36103201004w27  \n",
       "4  36103201004w27  \n",
       "\n",
       "[5 rows x 517098 columns]"
      ]
     },
     "execution_count": 47,
     "metadata": {},
     "output_type": "execute_result"
    }
   ],
   "source": [
    "frdis.head()"
   ]
  },
  {
   "cell_type": "markdown",
   "metadata": {},
   "source": [
    "#### Police distance"
   ]
  },
  {
   "cell_type": "code",
   "execution_count": 103,
   "metadata": {},
   "outputs": [],
   "source": [
    "psdis = Cal_Dist(pid, workpop)"
   ]
  },
  {
   "cell_type": "code",
   "execution_count": 105,
   "metadata": {},
   "outputs": [],
   "source": [
    "psdis = psdis.set_index('hosID').reset_index()"
   ]
  },
  {
   "cell_type": "code",
   "execution_count": 106,
   "metadata": {},
   "outputs": [
    {
     "data": {
      "text/html": [
       "<div>\n",
       "<style scoped>\n",
       "    .dataframe tbody tr th:only-of-type {\n",
       "        vertical-align: middle;\n",
       "    }\n",
       "\n",
       "    .dataframe tbody tr th {\n",
       "        vertical-align: top;\n",
       "    }\n",
       "\n",
       "    .dataframe thead th {\n",
       "        text-align: right;\n",
       "    }\n",
       "</style>\n",
       "<table border=\"1\" class=\"dataframe\">\n",
       "  <thead>\n",
       "    <tr style=\"text-align: right;\">\n",
       "      <th></th>\n",
       "      <th>hosID</th>\n",
       "      <th>0</th>\n",
       "      <th>1</th>\n",
       "      <th>2</th>\n",
       "      <th>3</th>\n",
       "      <th>4</th>\n",
       "      <th>5</th>\n",
       "      <th>6</th>\n",
       "      <th>7</th>\n",
       "      <th>8</th>\n",
       "      <th>...</th>\n",
       "      <th>517087</th>\n",
       "      <th>517088</th>\n",
       "      <th>517089</th>\n",
       "      <th>517090</th>\n",
       "      <th>517091</th>\n",
       "      <th>517092</th>\n",
       "      <th>517093</th>\n",
       "      <th>517094</th>\n",
       "      <th>517095</th>\n",
       "      <th>517096</th>\n",
       "    </tr>\n",
       "  </thead>\n",
       "  <tbody>\n",
       "    <tr>\n",
       "      <th>0</th>\n",
       "      <td>36005003900p0</td>\n",
       "      <td>36005003900w17</td>\n",
       "      <td>36005003900w30</td>\n",
       "      <td>36005003900w15</td>\n",
       "      <td>36005003900w22</td>\n",
       "      <td>36005003900w38</td>\n",
       "      <td>36005003900w41</td>\n",
       "      <td>36005003900w6</td>\n",
       "      <td>36005003900w19</td>\n",
       "      <td>36005003900w25</td>\n",
       "      <td>...</td>\n",
       "      <td>36103170202w25</td>\n",
       "      <td>36103201004w82</td>\n",
       "      <td>36103201004w42</td>\n",
       "      <td>36103170202w12</td>\n",
       "      <td>36103201004w74</td>\n",
       "      <td>36103201004w13</td>\n",
       "      <td>36103201004w63</td>\n",
       "      <td>36103201004w54</td>\n",
       "      <td>36103201004w84</td>\n",
       "      <td>36103201004w27</td>\n",
       "    </tr>\n",
       "    <tr>\n",
       "      <th>1</th>\n",
       "      <td>36005004600p0</td>\n",
       "      <td>36005004600w5</td>\n",
       "      <td>36005004600w0</td>\n",
       "      <td>36005004600w4</td>\n",
       "      <td>36005004600w13</td>\n",
       "      <td>36005004600w9</td>\n",
       "      <td>36005004200w151</td>\n",
       "      <td>36005004200w126</td>\n",
       "      <td>36005004200w129</td>\n",
       "      <td>36005004200w42</td>\n",
       "      <td>...</td>\n",
       "      <td>36103201004w20</td>\n",
       "      <td>36103201004w82</td>\n",
       "      <td>36103201004w42</td>\n",
       "      <td>36103170202w12</td>\n",
       "      <td>36103201004w74</td>\n",
       "      <td>36103201004w13</td>\n",
       "      <td>36103201004w63</td>\n",
       "      <td>36103201004w54</td>\n",
       "      <td>36103201004w84</td>\n",
       "      <td>36103201004w27</td>\n",
       "    </tr>\n",
       "    <tr>\n",
       "      <th>2</th>\n",
       "      <td>36005008900p0</td>\n",
       "      <td>36005008900w7</td>\n",
       "      <td>36005008900w10</td>\n",
       "      <td>36005008900w12</td>\n",
       "      <td>36005008900w13</td>\n",
       "      <td>36005008900w2</td>\n",
       "      <td>36005008900w6</td>\n",
       "      <td>36005008900w11</td>\n",
       "      <td>36005008900w24</td>\n",
       "      <td>36005009300w422</td>\n",
       "      <td>...</td>\n",
       "      <td>36103201004w20</td>\n",
       "      <td>36103201004w82</td>\n",
       "      <td>36103201004w42</td>\n",
       "      <td>36103170202w12</td>\n",
       "      <td>36103201004w13</td>\n",
       "      <td>36103201004w74</td>\n",
       "      <td>36103201004w63</td>\n",
       "      <td>36103201004w54</td>\n",
       "      <td>36103201004w84</td>\n",
       "      <td>36103201004w27</td>\n",
       "    </tr>\n",
       "    <tr>\n",
       "      <th>3</th>\n",
       "      <td>36005014100p0</td>\n",
       "      <td>36005014100w2</td>\n",
       "      <td>36005014100w15</td>\n",
       "      <td>36005007100w2</td>\n",
       "      <td>36005007100w15</td>\n",
       "      <td>36005007100w68</td>\n",
       "      <td>36005007100w35</td>\n",
       "      <td>36005007100w44</td>\n",
       "      <td>36005007100w71</td>\n",
       "      <td>36005007100w84</td>\n",
       "      <td>...</td>\n",
       "      <td>36103201004w20</td>\n",
       "      <td>36103201004w82</td>\n",
       "      <td>36103201004w42</td>\n",
       "      <td>36103170202w12</td>\n",
       "      <td>36103201004w13</td>\n",
       "      <td>36103201004w74</td>\n",
       "      <td>36103201004w63</td>\n",
       "      <td>36103201004w54</td>\n",
       "      <td>36103201004w84</td>\n",
       "      <td>36103201004w27</td>\n",
       "    </tr>\n",
       "    <tr>\n",
       "      <th>4</th>\n",
       "      <td>36005016500p0</td>\n",
       "      <td>36005016500w25</td>\n",
       "      <td>36005039500w11</td>\n",
       "      <td>36005016500w13</td>\n",
       "      <td>36005016500w40</td>\n",
       "      <td>36005023100w32</td>\n",
       "      <td>36005023100w28</td>\n",
       "      <td>36005023100w18</td>\n",
       "      <td>36005023100w22</td>\n",
       "      <td>36005039500w10</td>\n",
       "      <td>...</td>\n",
       "      <td>36103201004w20</td>\n",
       "      <td>36103170202w12</td>\n",
       "      <td>36103201004w82</td>\n",
       "      <td>36103201004w42</td>\n",
       "      <td>36103201004w74</td>\n",
       "      <td>36103201004w13</td>\n",
       "      <td>36103201004w63</td>\n",
       "      <td>36103201004w54</td>\n",
       "      <td>36103201004w84</td>\n",
       "      <td>36103201004w27</td>\n",
       "    </tr>\n",
       "  </tbody>\n",
       "</table>\n",
       "<p>5 rows × 517098 columns</p>\n",
       "</div>"
      ],
      "text/plain": [
       "           hosID               0               1               2  \\\n",
       "0  36005003900p0  36005003900w17  36005003900w30  36005003900w15   \n",
       "1  36005004600p0   36005004600w5   36005004600w0   36005004600w4   \n",
       "2  36005008900p0   36005008900w7  36005008900w10  36005008900w12   \n",
       "3  36005014100p0   36005014100w2  36005014100w15   36005007100w2   \n",
       "4  36005016500p0  36005016500w25  36005039500w11  36005016500w13   \n",
       "\n",
       "                3               4                5                6  \\\n",
       "0  36005003900w22  36005003900w38   36005003900w41    36005003900w6   \n",
       "1  36005004600w13   36005004600w9  36005004200w151  36005004200w126   \n",
       "2  36005008900w13   36005008900w2    36005008900w6   36005008900w11   \n",
       "3  36005007100w15  36005007100w68   36005007100w35   36005007100w44   \n",
       "4  36005016500w40  36005023100w32   36005023100w28   36005023100w18   \n",
       "\n",
       "                 7                8       ...                517087  \\\n",
       "0   36005003900w19   36005003900w25       ...        36103170202w25   \n",
       "1  36005004200w129   36005004200w42       ...        36103201004w20   \n",
       "2   36005008900w24  36005009300w422       ...        36103201004w20   \n",
       "3   36005007100w71   36005007100w84       ...        36103201004w20   \n",
       "4   36005023100w22   36005039500w10       ...        36103201004w20   \n",
       "\n",
       "           517088          517089          517090          517091  \\\n",
       "0  36103201004w82  36103201004w42  36103170202w12  36103201004w74   \n",
       "1  36103201004w82  36103201004w42  36103170202w12  36103201004w74   \n",
       "2  36103201004w82  36103201004w42  36103170202w12  36103201004w13   \n",
       "3  36103201004w82  36103201004w42  36103170202w12  36103201004w13   \n",
       "4  36103170202w12  36103201004w82  36103201004w42  36103201004w74   \n",
       "\n",
       "           517092          517093          517094          517095  \\\n",
       "0  36103201004w13  36103201004w63  36103201004w54  36103201004w84   \n",
       "1  36103201004w13  36103201004w63  36103201004w54  36103201004w84   \n",
       "2  36103201004w74  36103201004w63  36103201004w54  36103201004w84   \n",
       "3  36103201004w74  36103201004w63  36103201004w54  36103201004w84   \n",
       "4  36103201004w13  36103201004w63  36103201004w54  36103201004w84   \n",
       "\n",
       "           517096  \n",
       "0  36103201004w27  \n",
       "1  36103201004w27  \n",
       "2  36103201004w27  \n",
       "3  36103201004w27  \n",
       "4  36103201004w27  \n",
       "\n",
       "[5 rows x 517098 columns]"
      ]
     },
     "execution_count": 106,
     "metadata": {},
     "output_type": "execute_result"
    }
   ],
   "source": [
    "psdis.head()"
   ]
  },
  {
   "cell_type": "markdown",
   "metadata": {},
   "source": [
    "#### Hos distance"
   ]
  },
  {
   "cell_type": "code",
   "execution_count": null,
   "metadata": {},
   "outputs": [],
   "source": [
    "hosdis = Cal_Dist(hid,wrk)"
   ]
  },
  {
   "cell_type": "code",
   "execution_count": null,
   "metadata": {},
   "outputs": [],
   "source": [
    "hosdis = hosdis.set_index('hosID').reset_index()"
   ]
  },
  {
   "cell_type": "code",
   "execution_count": null,
   "metadata": {},
   "outputs": [],
   "source": [
    "hosdis.head()"
   ]
  },
  {
   "cell_type": "code",
   "execution_count": null,
   "metadata": {},
   "outputs": [],
   "source": [
    "hosdis.shape"
   ]
  },
  {
   "cell_type": "markdown",
   "metadata": {},
   "source": [
    "### Get work for Hospitals"
   ]
  },
  {
   "cell_type": "code",
   "execution_count": null,
   "metadata": {},
   "outputs": [],
   "source": [
    "#1,first response deistance; 2,work table; 3,first responder with pop\n",
    "def Find_wrkID(dis, work, fr):\n",
    "    #New DataFrame to hold the results\n",
    "    wp = pd.DataFrame()\n",
    "    w = work.set_index('wrkID')\n",
    "    #for i in range (0,4):\n",
    "    for i in hosdis.index:\n",
    "        print(\"This is \", i)\n",
    "        #workID for the i hospital\n",
    "        a = dis.iloc[i,1:].tolist()\n",
    "        #hosID\n",
    "        b = dis.loc[i,'hosID']\n",
    "        print(\"HosId is:\",b)\n",
    "        #hosID\n",
    "        Population = fr.loc[i, 'Pop']\n",
    "    \n",
    "        #Parameter for next loop\n",
    "        flag = 0\n",
    "        wrkid = []\n",
    "        pop = []\n",
    "        hos = []\n",
    "        for j in a:\n",
    "            #Condition to stop\n",
    "            while flag < Population:\n",
    "                c = w.loc[j,'pop']\n",
    "                flag = flag + c      \n",
    "                pop.append(c)\n",
    "                wrkid.append(j)\n",
    "                hos.append(b)\n",
    "                break           \n",
    "        sub = pd.DataFrame({'wrkID': wrkid, 'Pop': pop, 'hosID':hos})\n",
    "        wp = wp.append(sub)\n",
    "    return wp"
   ]
  },
  {
   "cell_type": "code",
   "execution_count": 107,
   "metadata": {},
   "outputs": [],
   "source": [
    "#1,first response deistance; 2,work table; 3,first responder with pop;\n",
    "def Find_wrkID_Police(dis, work, fr):\n",
    "    #New DataFrame to hold the results\n",
    "    wp = pd.DataFrame()\n",
    "    w = work.set_index('wrkID')\n",
    "    #for i in range (0,4):\n",
    "    for i in dis.index:\n",
    "        print(\"This is \", i)\n",
    "        #workID for the i hospital\n",
    "        a = dis.iloc[i,1:].tolist()\n",
    "        #hosID\n",
    "        b = dis.loc[i,'hosID']\n",
    "        print(\"HosId is:\",b)\n",
    "        #hosID\n",
    "        #Population = fr.loc[i, 'Pop']\n",
    "        #Population = int(pop)\n",
    "    \n",
    "        #Parameter for next loop\n",
    "        flag = 0\n",
    "        wrkid = []\n",
    "        pop = []\n",
    "        hos = []\n",
    "        for j in a:\n",
    "            #Condition to stop\n",
    "            while flag < 500:\n",
    "                c = w.loc[j,'pop']\n",
    "                flag = flag + c      \n",
    "                pop.append(c)\n",
    "                wrkid.append(j)\n",
    "                hos.append(b)\n",
    "                break           \n",
    "        sub = pd.DataFrame({'wrkID': wrkid, 'Pop': pop, 'hosID':hos})\n",
    "        wp = wp.append(sub)\n",
    "    return wp"
   ]
  },
  {
   "cell_type": "code",
   "execution_count": null,
   "metadata": {},
   "outputs": [],
   "source": [
    "#Get Hospital WrkID\n",
    "df = Find_wrkID(hosdis, wrk, hid)"
   ]
  },
  {
   "cell_type": "code",
   "execution_count": null,
   "metadata": {},
   "outputs": [],
   "source": [
    "#Firestation WrkID\n",
    "firedf = Find_wrkID(frdis, workpop, fid)"
   ]
  },
  {
   "cell_type": "code",
   "execution_count": null,
   "metadata": {},
   "outputs": [],
   "source": [
    "#Police Station WrkID\n",
    "psdf = Find_wrkID(psdis, workpop, pid)"
   ]
  }
 ],
 "metadata": {
  "kernelspec": {
   "display_name": "Python 3",
   "language": "python",
   "name": "python3"
  },
  "language_info": {
   "codemirror_mode": {
    "name": "ipython",
    "version": 3
   },
   "file_extension": ".py",
   "mimetype": "text/x-python",
   "name": "python",
   "nbconvert_exporter": "python",
   "pygments_lexer": "ipython3",
   "version": "3.6.6"
  }
 },
 "nbformat": 4,
 "nbformat_minor": 2
}
